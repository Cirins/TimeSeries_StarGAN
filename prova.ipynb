{
 "cells": [
  {
   "cell_type": "code",
   "execution_count": 1,
   "metadata": {},
   "outputs": [
    {
     "name": "stdout",
     "output_type": "stream",
     "text": [
      "    source    LB  TSTR_l  TSTR_r  FT_l  FT_r\n",
      "0      CLD  0.89    0.83    0.94  0.88  0.91\n",
      "1      CLU  0.87    0.83    0.95  0.94  0.95\n",
      "2      RUN  0.81    0.67    0.82  0.75  0.84\n",
      "3      WAL  0.96    0.94    0.96  0.94  0.97\n",
      "4  Average  0.88    0.82    0.92  0.88  0.92\n"
     ]
    }
   ],
   "source": [
    "import pandas as pd\n",
    "\n",
    "# Load and process LB data\n",
    "data = pd.read_csv('bounds/TSTRscoreLB_realworld.csv')\n",
    "average_accuracies_LB = data.groupby(['source'])['accuracy'].mean().reset_index()\n",
    "\n",
    "# Load and process TSTR latent data\n",
    "data = pd.read_csv('expr_realworld/eval/TSTR_scores.csv')\n",
    "data = data[data['mode'] == 'latent']\n",
    "average_accuracies_TSTR_latent = data.groupby(['source'])['accuracy'].mean().reset_index()\n",
    "\n",
    "# Load and process TSTR reference data\n",
    "data = pd.read_csv('expr_realworld/eval/TSTR_scores.csv')\n",
    "data = data[data['mode'] == 'reference']\n",
    "average_accuracies_TSTR_reference = data.groupby(['source'])['accuracy'].mean().reset_index()\n",
    "\n",
    "# Load and process TSTR_FT latent data\n",
    "data = pd.read_csv('bounds/TSTRscoreFT_realworld.csv')\n",
    "data = data[data['mode'] == 'lat']\n",
    "average_accuracies_TSTR_FT_latent = data.groupby(['source'])['accuracy'].mean().reset_index()\n",
    "\n",
    "# Load and process TSTR_FT reference data\n",
    "data = pd.read_csv('bounds/TSTRscoreFT_realworld.csv')\n",
    "data = data[data['mode'] == 'ref']\n",
    "average_accuracies_TSTR_FT_reference = data.groupby(['source'])['accuracy'].mean().reset_index()\n",
    "\n",
    "# Merge all data into one table\n",
    "merged_data = average_accuracies_LB.merge(average_accuracies_TSTR_latent, on='source', suffixes=('_LB', '_TSTR_latent'))\n",
    "merged_data = merged_data.merge(average_accuracies_TSTR_reference, on='source')\n",
    "merged_data = merged_data.merge(average_accuracies_TSTR_FT_latent, on='source', suffixes=('_TSTR_reference', '_TSTR_FT_latent'))\n",
    "merged_data = merged_data.merge(average_accuracies_TSTR_FT_reference, on='source', suffixes=('_TSTR_FT_latent', '_TSTR_FT_reference'))\n",
    "\n",
    "# Rename columns for clarity\n",
    "merged_data.columns = ['source', 'LB', 'TSTR_l', 'TSTR_r', 'FT_l', 'FT_r']\n",
    "\n",
    "# Compute the average across all sources for each column (excluding the 'source' column)\n",
    "average_row = merged_data.mean(numeric_only=True)\n",
    "average_row['source'] = 'Average'\n",
    "\n",
    "# Append the average row to the merged_data dataframe\n",
    "merged_data = merged_data.append(average_row, ignore_index=True)\n",
    "\n",
    "# Round the accuracy values to 2 decimal places\n",
    "merged_data = merged_data.round(2)\n",
    "\n",
    "# Print or save the final table\n",
    "print(merged_data)\n"
   ]
  },
  {
   "cell_type": "code",
   "execution_count": 2,
   "metadata": {},
   "outputs": [
    {
     "name": "stdout",
     "output_type": "stream",
     "text": [
      "          source    LB  TSTR_l  TSTR_r  FT_l  FT_r\n",
      "0           Ball  0.32    0.35    0.32  0.33  0.20\n",
      "1             IR  0.47    0.41    0.33  0.39  0.34\n",
      "2     OR_centred  0.40    0.43    0.53  0.25  0.16\n",
      "3    OR_opposite  0.41    0.47    0.51  0.37  0.36\n",
      "4  OR_orthogonal  0.44    0.40    0.39  0.38  0.32\n",
      "5        Average  0.41    0.41    0.42  0.34  0.28\n"
     ]
    }
   ],
   "source": [
    "import pandas as pd\n",
    "\n",
    "# Load and process LB data\n",
    "data = pd.read_csv('bounds/TSTRscoreLB_cwru.csv')\n",
    "average_accuracies_LB = data.groupby(['source'])['accuracy'].mean().reset_index()\n",
    "\n",
    "# Load and process TSTR latent data\n",
    "data = pd.read_csv('expr_cwru/eval/TSTR_scores.csv')\n",
    "data = data[data['mode'] == 'latent']\n",
    "average_accuracies_TSTR_latent = data.groupby(['source'])['accuracy'].mean().reset_index()\n",
    "\n",
    "# Load and process TSTR reference data\n",
    "data = pd.read_csv('expr_cwru/eval/TSTR_scores.csv')\n",
    "data = data[data['mode'] == 'reference']\n",
    "average_accuracies_TSTR_reference = data.groupby(['source'])['accuracy'].mean().reset_index()\n",
    "\n",
    "# Load and process TSTR_FT latent data\n",
    "data = pd.read_csv('bounds/TSTRscoreFT_cwru.csv')\n",
    "data = data[data['mode'] == 'lat']\n",
    "average_accuracies_TSTR_FT_latent = data.groupby(['source'])['accuracy'].mean().reset_index()\n",
    "\n",
    "# Load and process TSTR_FT reference data\n",
    "data = pd.read_csv('bounds/TSTRscoreFT_cwru.csv')\n",
    "data = data[data['mode'] == 'ref']\n",
    "average_accuracies_TSTR_FT_reference = data.groupby(['source'])['accuracy'].mean().reset_index()\n",
    "\n",
    "# Merge all data into one table\n",
    "merged_data = average_accuracies_LB.merge(average_accuracies_TSTR_latent, on='source', suffixes=('_LB', '_TSTR_latent'))\n",
    "merged_data = merged_data.merge(average_accuracies_TSTR_reference, on='source')\n",
    "merged_data = merged_data.merge(average_accuracies_TSTR_FT_latent, on='source', suffixes=('_TSTR_reference', '_TSTR_FT_latent'))\n",
    "merged_data = merged_data.merge(average_accuracies_TSTR_FT_reference, on='source', suffixes=('_TSTR_FT_latent', '_TSTR_FT_reference'))\n",
    "\n",
    "# Rename columns for clarity\n",
    "merged_data.columns = ['source', 'LB', 'TSTR_l', 'TSTR_r', 'FT_l', 'FT_r']\n",
    "\n",
    "# Compute the average across all sources for each column (excluding the 'source' column)\n",
    "average_row = merged_data.mean(numeric_only=True)\n",
    "average_row['source'] = 'Average'\n",
    "\n",
    "# Append the average row to the merged_data dataframe\n",
    "merged_data = merged_data.append(average_row, ignore_index=True)\n",
    "\n",
    "# Round the accuracy values to 2 decimal places\n",
    "merged_data = merged_data.round(2)\n",
    "\n",
    "# Print or save the final table\n",
    "print(merged_data)\n"
   ]
  }
 ],
 "metadata": {
  "kernelspec": {
   "display_name": "stargan-v2",
   "language": "python",
   "name": "python3"
  },
  "language_info": {
   "codemirror_mode": {
    "name": "ipython",
    "version": 3
   },
   "file_extension": ".py",
   "mimetype": "text/x-python",
   "name": "python",
   "nbconvert_exporter": "python",
   "pygments_lexer": "ipython3",
   "version": "3.6.13"
  }
 },
 "nbformat": 4,
 "nbformat_minor": 2
}
